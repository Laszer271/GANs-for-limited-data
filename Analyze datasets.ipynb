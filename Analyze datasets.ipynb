{
 "cells": [
  {
   "cell_type": "code",
   "execution_count": 1,
   "id": "a76d8a3c",
   "metadata": {},
   "outputs": [],
   "source": [
    "from processing_framework import Sequencer, GetPaths, LoadImages, ShortenPaths, ChangeImageMode\n",
    "from processing_framework import FilterImages, FilterByColorsNumber\n",
    "import numpy as np"
   ]
  },
  {
   "cell_type": "code",
   "execution_count": 2,
   "id": "26927209",
   "metadata": {},
   "outputs": [],
   "source": [
    "seq = Sequencer([GetPaths(recursive=True,\n",
    "                          allowed_extensions=['.gif', '.png', '.jpg', '.jpeg'],\n",
    "                          banned_keywords=['back']),\n",
    "                 LoadImages(),\n",
    "                 ChangeImageMode(),\n",
    "                 FilterImages(mode='RGBA', filter_paths=True),\n",
    "                 FilterByColorsNumber(min_colors=2, max_colors=32),\n",
    "                 #ResizeImages((96, 96), 'lanczos'),\n",
    "                 #PadImages(to_resolution=(128, 128), color=255),\n",
    "                 #ImagesToArrays(),\n",
    "                 #StandarizeBackgroundByAlpha((255, 255, 255), binarize_alpha=True),\n",
    "                 #ArraysToImages(),\n",
    "                 ShortenPaths(delete_patterns=[r'raw\\/'], delete_last_segment=True),\n",
    "                 #SaveImages('processed/pokemon_all', use_paths=True, clean_destination_dir=True)\n",
    "                 ])"
   ]
  },
  {
   "cell_type": "code",
   "execution_count": 3,
   "id": "7c9d2f3a",
   "metadata": {},
   "outputs": [
    {
     "name": "stdout",
     "output_type": "stream",
     "text": [
      "Step 1/6 (GetPaths) in progress\n",
      "dict_keys(['paths'])\n",
      "Found 27014 paths\n",
      "Step 1/6 (GetPaths) completed, time elapsed: 2.195099353790283 seconds\n",
      "\n",
      "Step 2/6 (LoadImages) in progress\n",
      "dict_keys(['paths'])\n",
      "Could not open image: raw/pokemon\\10180.png\n",
      "Loaded 27012 images\n",
      "Step 2/6 (LoadImages) completed, time elapsed: 82.6601173877716 seconds\n",
      "\n",
      "Step 3/6 (ChangeImageMode) in progress\n",
      "dict_keys(['images', 'paths'])\n",
      "Mode of 15873 images changed\n",
      "Step 3/6 (ChangeImageMode) completed, time elapsed: 2.1957099437713623 seconds\n",
      "\n",
      "Step 4/6 (FilterImages) in progress\n",
      "dict_keys(['paths', 'images'])\n",
      "Filtered 2449 images out of 27012. 24563 images remaining\n",
      "27013\n",
      "24563\n",
      "24563\n",
      "Step 4/6 (FilterImages) completed, time elapsed: 9.730723142623901 seconds\n",
      "\n",
      "Step 5/6 (FilterByColorsNumber) in progress\n",
      "dict_keys(['images', 'paths'])\n"
     ]
    },
    {
     "ename": "AttributeError",
     "evalue": "reshape",
     "output_type": "error",
     "traceback": [
      "\u001b[1;31m---------------------------------------------------------------------------\u001b[0m",
      "\u001b[1;31mAttributeError\u001b[0m                            Traceback (most recent call last)",
      "\u001b[1;32m<ipython-input-3-37fbfb79ad44>\u001b[0m in \u001b[0;36m<module>\u001b[1;34m\u001b[0m\n\u001b[0;32m      1\u001b[0m \u001b[0mpath\u001b[0m \u001b[1;33m=\u001b[0m \u001b[1;34m'raw/pokemon'\u001b[0m\u001b[1;33m\u001b[0m\u001b[1;33m\u001b[0m\u001b[0m\n\u001b[1;32m----> 2\u001b[1;33m \u001b[0mdata\u001b[0m \u001b[1;33m=\u001b[0m \u001b[0mseq\u001b[0m\u001b[1;33m(\u001b[0m\u001b[0mpaths\u001b[0m\u001b[1;33m=\u001b[0m\u001b[1;33m[\u001b[0m\u001b[0mpath\u001b[0m\u001b[1;33m]\u001b[0m\u001b[1;33m)\u001b[0m\u001b[1;33m\u001b[0m\u001b[1;33m\u001b[0m\u001b[0m\n\u001b[0m\u001b[0;32m      3\u001b[0m \u001b[0mprint\u001b[0m\u001b[1;33m(\u001b[0m\u001b[1;34m'\\nOverall time:'\u001b[0m\u001b[1;33m,\u001b[0m \u001b[0mseq\u001b[0m\u001b[1;33m.\u001b[0m\u001b[0mtime_taken\u001b[0m\u001b[1;33m)\u001b[0m\u001b[1;33m\u001b[0m\u001b[1;33m\u001b[0m\u001b[0m\n",
      "\u001b[1;32mE:\\Artificial Intelligence\\PracaDyplomowa\\gen_datasets\\processing_framework.py\u001b[0m in \u001b[0;36m__call__\u001b[1;34m(self, **kwargs)\u001b[0m\n\u001b[0;32m     29\u001b[0m             \u001b[0mprint\u001b[0m\u001b[1;33m(\u001b[0m\u001b[1;34mf'Step {i}/{len(self.seq)} ({op}) in progress'\u001b[0m\u001b[1;33m,\u001b[0m \u001b[0mflush\u001b[0m\u001b[1;33m=\u001b[0m\u001b[1;32mTrue\u001b[0m\u001b[1;33m)\u001b[0m\u001b[1;33m\u001b[0m\u001b[1;33m\u001b[0m\u001b[0m\n\u001b[0;32m     30\u001b[0m             \u001b[0mprint\u001b[0m\u001b[1;33m(\u001b[0m\u001b[0mkwargs\u001b[0m\u001b[1;33m.\u001b[0m\u001b[0mkeys\u001b[0m\u001b[1;33m(\u001b[0m\u001b[1;33m)\u001b[0m\u001b[1;33m)\u001b[0m\u001b[1;33m\u001b[0m\u001b[1;33m\u001b[0m\u001b[0m\n\u001b[1;32m---> 31\u001b[1;33m             \u001b[0mkwargs\u001b[0m \u001b[1;33m=\u001b[0m \u001b[0mop\u001b[0m\u001b[1;33m(\u001b[0m\u001b[1;33m**\u001b[0m\u001b[0mkwargs\u001b[0m\u001b[1;33m)\u001b[0m\u001b[1;33m\u001b[0m\u001b[1;33m\u001b[0m\u001b[0m\n\u001b[0m\u001b[0;32m     32\u001b[0m             \u001b[0mtime_taken\u001b[0m \u001b[1;33m=\u001b[0m \u001b[0mtime\u001b[0m\u001b[1;33m.\u001b[0m\u001b[0mtime\u001b[0m\u001b[1;33m(\u001b[0m\u001b[1;33m)\u001b[0m \u001b[1;33m-\u001b[0m \u001b[0mstart\u001b[0m\u001b[1;33m\u001b[0m\u001b[1;33m\u001b[0m\u001b[0m\n\u001b[0;32m     33\u001b[0m             \u001b[0mself\u001b[0m\u001b[1;33m.\u001b[0m\u001b[0mtime_taken\u001b[0m \u001b[1;33m+=\u001b[0m \u001b[0mtime_taken\u001b[0m\u001b[1;33m\u001b[0m\u001b[1;33m\u001b[0m\u001b[0m\n",
      "\u001b[1;32mE:\\Artificial Intelligence\\PracaDyplomowa\\gen_datasets\\processing_framework.py\u001b[0m in \u001b[0;36m__call__\u001b[1;34m(self, images, **kwargs)\u001b[0m\n\u001b[0;32m    351\u001b[0m \u001b[1;33m\u001b[0m\u001b[0m\n\u001b[0;32m    352\u001b[0m     \u001b[1;32mdef\u001b[0m \u001b[0m__call__\u001b[0m\u001b[1;33m(\u001b[0m\u001b[0mself\u001b[0m\u001b[1;33m,\u001b[0m \u001b[1;33m*\u001b[0m\u001b[1;33m,\u001b[0m \u001b[0mimages\u001b[0m\u001b[1;33m,\u001b[0m \u001b[1;33m**\u001b[0m\u001b[0mkwargs\u001b[0m\u001b[1;33m)\u001b[0m\u001b[1;33m:\u001b[0m\u001b[1;33m\u001b[0m\u001b[1;33m\u001b[0m\u001b[0m\n\u001b[1;32m--> 353\u001b[1;33m         \u001b[0mcolors_counts\u001b[0m \u001b[1;33m=\u001b[0m \u001b[1;33m[\u001b[0m\u001b[0mstatistics\u001b[0m\u001b[1;33m.\u001b[0m\u001b[0mget_number_of_colors\u001b[0m\u001b[1;33m(\u001b[0m\u001b[0mimg\u001b[0m\u001b[1;33m)\u001b[0m \u001b[1;32mfor\u001b[0m \u001b[0mimg\u001b[0m \u001b[1;32min\u001b[0m \u001b[0mimages\u001b[0m\u001b[1;33m]\u001b[0m\u001b[1;33m\u001b[0m\u001b[1;33m\u001b[0m\u001b[0m\n\u001b[0m\u001b[0;32m    354\u001b[0m         new_images = [img for cnt, img in zip(colors_counts, images) if \\\n\u001b[0;32m    355\u001b[0m                       \u001b[1;33m(\u001b[0m\u001b[0mself\u001b[0m\u001b[1;33m.\u001b[0m\u001b[0mmin_colors\u001b[0m \u001b[1;32mis\u001b[0m \u001b[1;32mNone\u001b[0m \u001b[1;32mor\u001b[0m \u001b[0mcnt\u001b[0m \u001b[1;33m>=\u001b[0m \u001b[0mself\u001b[0m\u001b[1;33m.\u001b[0m\u001b[0mmin_colors\u001b[0m\u001b[1;33m)\u001b[0m \u001b[1;32mand\u001b[0m\u001b[0;31m \u001b[0m\u001b[0;31m\\\u001b[0m\u001b[1;33m\u001b[0m\u001b[1;33m\u001b[0m\u001b[0m\n",
      "\u001b[1;32mE:\\Artificial Intelligence\\PracaDyplomowa\\gen_datasets\\processing_framework.py\u001b[0m in \u001b[0;36m<listcomp>\u001b[1;34m(.0)\u001b[0m\n\u001b[0;32m    351\u001b[0m \u001b[1;33m\u001b[0m\u001b[0m\n\u001b[0;32m    352\u001b[0m     \u001b[1;32mdef\u001b[0m \u001b[0m__call__\u001b[0m\u001b[1;33m(\u001b[0m\u001b[0mself\u001b[0m\u001b[1;33m,\u001b[0m \u001b[1;33m*\u001b[0m\u001b[1;33m,\u001b[0m \u001b[0mimages\u001b[0m\u001b[1;33m,\u001b[0m \u001b[1;33m**\u001b[0m\u001b[0mkwargs\u001b[0m\u001b[1;33m)\u001b[0m\u001b[1;33m:\u001b[0m\u001b[1;33m\u001b[0m\u001b[1;33m\u001b[0m\u001b[0m\n\u001b[1;32m--> 353\u001b[1;33m         \u001b[0mcolors_counts\u001b[0m \u001b[1;33m=\u001b[0m \u001b[1;33m[\u001b[0m\u001b[0mstatistics\u001b[0m\u001b[1;33m.\u001b[0m\u001b[0mget_number_of_colors\u001b[0m\u001b[1;33m(\u001b[0m\u001b[0mimg\u001b[0m\u001b[1;33m)\u001b[0m \u001b[1;32mfor\u001b[0m \u001b[0mimg\u001b[0m \u001b[1;32min\u001b[0m \u001b[0mimages\u001b[0m\u001b[1;33m]\u001b[0m\u001b[1;33m\u001b[0m\u001b[1;33m\u001b[0m\u001b[0m\n\u001b[0m\u001b[0;32m    354\u001b[0m         new_images = [img for cnt, img in zip(colors_counts, images) if \\\n\u001b[0;32m    355\u001b[0m                       \u001b[1;33m(\u001b[0m\u001b[0mself\u001b[0m\u001b[1;33m.\u001b[0m\u001b[0mmin_colors\u001b[0m \u001b[1;32mis\u001b[0m \u001b[1;32mNone\u001b[0m \u001b[1;32mor\u001b[0m \u001b[0mcnt\u001b[0m \u001b[1;33m>=\u001b[0m \u001b[0mself\u001b[0m\u001b[1;33m.\u001b[0m\u001b[0mmin_colors\u001b[0m\u001b[1;33m)\u001b[0m \u001b[1;32mand\u001b[0m\u001b[0;31m \u001b[0m\u001b[0;31m\\\u001b[0m\u001b[1;33m\u001b[0m\u001b[1;33m\u001b[0m\u001b[0m\n",
      "\u001b[1;32mE:\\Artificial Intelligence\\PracaDyplomowa\\gen_datasets\\statistics.py\u001b[0m in \u001b[0;36mget_number_of_colors\u001b[1;34m(img)\u001b[0m\n\u001b[0;32m      7\u001b[0m \u001b[1;33m\u001b[0m\u001b[0m\n\u001b[0;32m      8\u001b[0m \u001b[1;32mdef\u001b[0m \u001b[0mget_number_of_colors\u001b[0m\u001b[1;33m(\u001b[0m\u001b[0mimg\u001b[0m\u001b[1;33m)\u001b[0m\u001b[1;33m:\u001b[0m\u001b[1;33m\u001b[0m\u001b[1;33m\u001b[0m\u001b[0m\n\u001b[1;32m----> 9\u001b[1;33m     \u001b[0mn_colors\u001b[0m \u001b[1;33m=\u001b[0m \u001b[0mlen\u001b[0m\u001b[1;33m(\u001b[0m\u001b[0mnp\u001b[0m\u001b[1;33m.\u001b[0m\u001b[0munique\u001b[0m\u001b[1;33m(\u001b[0m\u001b[0mimg\u001b[0m\u001b[1;33m.\u001b[0m\u001b[0mreshape\u001b[0m\u001b[1;33m(\u001b[0m\u001b[1;33m-\u001b[0m\u001b[1;36m1\u001b[0m\u001b[1;33m,\u001b[0m \u001b[0mimg\u001b[0m\u001b[1;33m.\u001b[0m\u001b[0mshape\u001b[0m\u001b[1;33m[\u001b[0m\u001b[1;33m-\u001b[0m\u001b[1;36m1\u001b[0m\u001b[1;33m]\u001b[0m\u001b[1;33m)\u001b[0m\u001b[1;33m,\u001b[0m \u001b[0maxis\u001b[0m\u001b[1;33m=\u001b[0m\u001b[1;36m0\u001b[0m\u001b[1;33m)\u001b[0m\u001b[1;33m)\u001b[0m\u001b[1;33m\u001b[0m\u001b[1;33m\u001b[0m\u001b[0m\n\u001b[0m\u001b[0;32m     10\u001b[0m     \u001b[1;32mreturn\u001b[0m \u001b[0mn_colors\u001b[0m\u001b[1;33m\u001b[0m\u001b[1;33m\u001b[0m\u001b[0m\n\u001b[0;32m     11\u001b[0m \u001b[1;33m\u001b[0m\u001b[0m\n",
      "\u001b[1;32m~\\anaconda3\\lib\\site-packages\\PIL\\Image.py\u001b[0m in \u001b[0;36m__getattr__\u001b[1;34m(self, name)\u001b[0m\n\u001b[0;32m    539\u001b[0m             )\n\u001b[0;32m    540\u001b[0m             \u001b[1;32mreturn\u001b[0m \u001b[0mself\u001b[0m\u001b[1;33m.\u001b[0m\u001b[0m_category\u001b[0m\u001b[1;33m\u001b[0m\u001b[1;33m\u001b[0m\u001b[0m\n\u001b[1;32m--> 541\u001b[1;33m         \u001b[1;32mraise\u001b[0m \u001b[0mAttributeError\u001b[0m\u001b[1;33m(\u001b[0m\u001b[0mname\u001b[0m\u001b[1;33m)\u001b[0m\u001b[1;33m\u001b[0m\u001b[1;33m\u001b[0m\u001b[0m\n\u001b[0m\u001b[0;32m    542\u001b[0m \u001b[1;33m\u001b[0m\u001b[0m\n\u001b[0;32m    543\u001b[0m     \u001b[1;33m@\u001b[0m\u001b[0mproperty\u001b[0m\u001b[1;33m\u001b[0m\u001b[1;33m\u001b[0m\u001b[0m\n",
      "\u001b[1;31mAttributeError\u001b[0m: reshape"
     ]
    }
   ],
   "source": [
    "path = 'raw/pokemon'\n",
    "data = seq(paths=[path])\n",
    "print('\\nOverall time:', seq.time_taken)"
   ]
  },
  {
   "cell_type": "code",
   "execution_count": null,
   "id": "639381b2",
   "metadata": {},
   "outputs": [],
   "source": [
    "unique_paths = set(data['paths'])"
   ]
  },
  {
   "cell_type": "code",
   "execution_count": null,
   "id": "c6ba7359",
   "metadata": {},
   "outputs": [],
   "source": [
    "def get_number_of_colors(img):\n",
    "    n_colors = len(np.unique(img.reshape(-1, img.shape[-1]), axis=0))\n",
    "    return n_colors"
   ]
  },
  {
   "cell_type": "code",
   "execution_count": null,
   "id": "0824bdf1",
   "metadata": {},
   "outputs": [],
   "source": [
    "stats = {}\n",
    "for unique_path in unique_paths:\n",
    "    images = [img for img, path in zip(data['images'], data['paths']) if path == unique_path]\n",
    "    \n",
    "    arrays = [np.array(img) for img in images]\n",
    "    d = {}\n",
    "    d['count'] = len(images)\n",
    "    modes, counts = np.unique([img.mode for img in images], return_counts=True)\n",
    "    d['modes'] = list(zip(modes, counts))\n",
    "    \n",
    "    '''\n",
    "    nr_of_colors = [get_number_of_colors(arr) for arr in arrays]\n",
    "    d['colors_mean'] = np.mean(nr_of_colors)\n",
    "    d['colors_Q1'] = np.quantile(nr_of_colors, 0.01)\n",
    "    d['colors_Q10'] = np.quantile(nr_of_colors, 0.1)\n",
    "    d['colors_median'] = np.median(nr_of_colors)\n",
    "    d['colors_Q90'] = np.quantile(nr_of_colors, 0.9)\n",
    "    d['colors_Q99'] = np.quantile(nr_of_colors, 0.99)\n",
    "    '''\n",
    "    \n",
    "    res, counts = np.unique([img.size for img in images], return_counts=True, axis=0)\n",
    "    d['sizes'] = list(zip(res, counts))\n",
    "    ratios, counts = np.unique([img.size[0] / img.size[1] for img in images], return_counts=True)\n",
    "    d['ratios'] = list(zip(ratios, counts))\n",
    "    stats[unique_path] = d\n",
    "    "
   ]
  },
  {
   "cell_type": "code",
   "execution_count": null,
   "id": "1fa38c64",
   "metadata": {
    "scrolled": false
   },
   "outputs": [],
   "source": [
    "THRESHOLD = 5.0\n",
    "\n",
    "keys = sorted(list(stats.keys()), key=lambda x: stats[x]['colors_mean'])\n",
    "\n",
    "for path in keys:\n",
    "    print(f'{path}:')\n",
    "    for key in stats[path]:\n",
    "        l = stats[path][key]\n",
    "        if isinstance(l, list):\n",
    "            counts = [x[-1] for x in l]\n",
    "            cnt = sum(counts)\n",
    "            new_l = []\n",
    "            other_cnt = 0\n",
    "            for x in l:\n",
    "                new_x = (x[0], round(x[1] / cnt * 100.0, 2))\n",
    "                if new_x[1] >= THRESHOLD:\n",
    "                    new_l.append(new_x)\n",
    "                else:\n",
    "                    other_cnt += x[1]\n",
    "                    \n",
    "            if other_cnt > 0:\n",
    "                new_l.append(('other', round(other_cnt / cnt * 100.0, 2)))\n",
    "            l = sorted(new_l, key=lambda x: x[1], reverse=True)\n",
    "            l = [(x[0], str(x[1]) + '%') for x in l]\n",
    "            \n",
    "            print(f'\\t{key}: {l}')\n",
    "        else:\n",
    "            print(f'\\t{key}: {l}')"
   ]
  },
  {
   "cell_type": "code",
   "execution_count": null,
   "id": "10b93c24",
   "metadata": {},
   "outputs": [],
   "source": [
    "sum([stats[key]['count'] for key in stats.keys()])"
   ]
  },
  {
   "cell_type": "code",
   "execution_count": null,
   "id": "2faa0adc",
   "metadata": {},
   "outputs": [],
   "source": [
    "24900"
   ]
  },
  {
   "cell_type": "code",
   "execution_count": null,
   "id": "caad6e81",
   "metadata": {},
   "outputs": [],
   "source": []
  }
 ],
 "metadata": {
  "kernelspec": {
   "display_name": "Python 3",
   "language": "python",
   "name": "python3"
  },
  "language_info": {
   "codemirror_mode": {
    "name": "ipython",
    "version": 3
   },
   "file_extension": ".py",
   "mimetype": "text/x-python",
   "name": "python",
   "nbconvert_exporter": "python",
   "pygments_lexer": "ipython3",
   "version": "3.8.8"
  }
 },
 "nbformat": 4,
 "nbformat_minor": 5
}
