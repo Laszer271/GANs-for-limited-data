{
 "cells": [
  {
   "cell_type": "code",
   "execution_count": 1,
   "id": "cedb3405",
   "metadata": {},
   "outputs": [],
   "source": [
    "import pandas as pd\n",
    "import numpy as np\n",
    "import os\n",
    "from PIL import Image\n",
    "import image_processing"
   ]
  },
  {
   "cell_type": "markdown",
   "id": "6ed4f29c",
   "metadata": {},
   "source": [
    "<h2>Margonem</h2>"
   ]
  },
  {
   "cell_type": "markdown",
   "id": "81d0f6ee",
   "metadata": {},
   "source": [
    "1. Get images from directory tree\n",
    "2. Drop images with wrong resolution\n",
    "3. Crop the data needed\n",
    "4. Standarize background\n",
    "5. Ensure the RGBA/RGB format\n",
    "6. Save the first frame to new directory as .png"
   ]
  },
  {
   "cell_type": "code",
   "execution_count": 2,
   "id": "18f89c55",
   "metadata": {},
   "outputs": [],
   "source": [
    "MARGONEM_PATH = './raw/margonem'\n",
    "MARGONEM_EXTENSIONS = ('png', 'gif')\n",
    "MARGONEM_CROP_BOX = (0, 0, 32, 48)\n",
    "MARGONEM_MODE = 'RGBA'\n",
    "MARGONEM_DEST_PATH = './processed/margonem'"
   ]
  },
  {
   "cell_type": "code",
   "execution_count": 3,
   "id": "55f05cd5",
   "metadata": {},
   "outputs": [],
   "source": [
    "paths = image_processing.get_all_files(MARGONEM_PATH, allowed_extensions=MARGONEM_EXTENSIONS)"
   ]
  },
  {
   "cell_type": "code",
   "execution_count": 4,
   "id": "72c6a04d",
   "metadata": {},
   "outputs": [
    {
     "name": "stdout",
     "output_type": "stream",
     "text": [
      "Acquired 4019 out of 4019 files\n"
     ]
    }
   ],
   "source": [
    "n_files = len(paths)\n",
    "n_files_existing = sum([len(files) for _, _, files in os.walk(MARGONEM_PATH)])\n",
    "print(f'Acquired {n_files} out of {n_files_existing} files')"
   ]
  },
  {
   "cell_type": "code",
   "execution_count": 5,
   "id": "9976c92b",
   "metadata": {},
   "outputs": [
    {
     "data": {
      "text/plain": [
       "4019"
      ]
     },
     "execution_count": 5,
     "metadata": {},
     "output_type": "execute_result"
    }
   ],
   "source": [
    "images = image_processing.get_images(paths)\n",
    "len(images)"
   ]
  },
  {
   "cell_type": "code",
   "execution_count": 6,
   "id": "fb5964e1",
   "metadata": {},
   "outputs": [
    {
     "data": {
      "text/plain": [
       "(128, 192)"
      ]
     },
     "execution_count": 6,
     "metadata": {},
     "output_type": "execute_result"
    }
   ],
   "source": [
    "images[0].size"
   ]
  },
  {
   "cell_type": "code",
   "execution_count": 7,
   "id": "2b1d9dcc",
   "metadata": {},
   "outputs": [
    {
     "data": {
      "text/plain": [
       "(32, 48)"
      ]
     },
     "execution_count": 7,
     "metadata": {},
     "output_type": "execute_result"
    }
   ],
   "source": [
    "images = [img.crop(MARGONEM_CROP_BOX) for img in images]\n",
    "images[0].size"
   ]
  },
  {
   "cell_type": "code",
   "execution_count": 8,
   "id": "772d494e",
   "metadata": {},
   "outputs": [
    {
     "data": {
      "image/png": "[encoded data removed]",
      "text/plain": [
       "<PIL.Image.Image image mode=RGBA size=32x48 at 0x16DFBC0F970>"
      ]
     },
     "execution_count": 8,
     "metadata": {},
     "output_type": "execute_result"
    }
   ],
   "source": [
    "images[0]"
   ]
  },
  {
   "cell_type": "code",
   "execution_count": 9,
   "id": "601d8dfb",
   "metadata": {},
   "outputs": [
    {
     "data": {
      "text/plain": [
       "'RGBA'"
      ]
     },
     "execution_count": 9,
     "metadata": {},
     "output_type": "execute_result"
    }
   ],
   "source": [
    "images[0].mode"
   ]
  },
  {
   "cell_type": "code",
   "execution_count": 10,
   "id": "43824629",
   "metadata": {},
   "outputs": [],
   "source": [
    "new_images = []\n",
    "for img in images:\n",
    "    if img.mode != MARGONEM_MODE:\n",
    "        img = img.convert(MARGONEM_MODE)\n",
    "    new_images.append(img)"
   ]
  },
  {
   "cell_type": "code",
   "execution_count": 11,
   "id": "18bdde4b",
   "metadata": {},
   "outputs": [],
   "source": [
    "if not os.path.exists(MARGONEM_DEST_PATH):\n",
    "    os.makedirs(MARGONEM_DEST_PATH)\n",
    "\n",
    "for i, img in enumerate(new_images):\n",
    "    img.save(os.path.join(MARGONEM_DEST_PATH, f'{i}.png'))"
   ]
  },
  {
   "cell_type": "markdown",
   "id": "68aaed04",
   "metadata": {},
   "source": [
    "<h2>Pokemon</h2>"
   ]
  },
  {
   "cell_type": "code",
   "execution_count": 74,
   "id": "03c021e0",
   "metadata": {},
   "outputs": [],
   "source": [
    "POKEMON_PATH = './raw/pokemon'\n",
    "POKEMON_EXTENSIONS = ('png', 'gif')\n",
    "POKEMON_MODE = 'RGBA'\n",
    "POKEMON_DEST_PATH = './processed/pokemon'\n",
    "POKEMON_BANNED_KEYWORDS = ['back']\n",
    "POKEMON_REQUIRED_KEYWORDS=['transparent']\n",
    "POKEMON_BANNED_KEYWORDS2 = ['back', 'versions']\n",
    "POKEMON_REQUIRED_RES = (96, 96)\n",
    "POKEMON_FINAL_RES = (128, 128)\n",
    "POKEMON_BACKGROUND_COLOR = 255"
   ]
  },
  {
   "cell_type": "code",
   "execution_count": 63,
   "id": "8a21d882",
   "metadata": {},
   "outputs": [],
   "source": [
    "paths, skipped = image_processing.get_all_files(POKEMON_PATH, allowed_extensions=POKEMON_EXTENSIONS,\n",
    "                                                banned_keywords=POKEMON_BANNED_KEYWORDS,\n",
    "                                                required_keywords=POKEMON_REQUIRED_KEYWORDS,\n",
    "                                                get_skipped_files=True, get_wrong_extensions=True)\n",
    "paths2, skipped2 = image_processing.get_all_files(POKEMON_PATH, allowed_extensions=POKEMON_EXTENSIONS,\n",
    "                                                  banned_keywords=POKEMON_BANNED_KEYWORDS2,\n",
    "                                                  get_skipped_files=True, get_wrong_extensions=True)\n",
    "paths = paths + paths2"
   ]
  },
  {
   "cell_type": "code",
   "execution_count": 64,
   "id": "40ea3bab",
   "metadata": {},
   "outputs": [
    {
     "name": "stdout",
     "output_type": "stream",
     "text": [
      "Acquired 6112 out of 41807 files\n"
     ]
    }
   ],
   "source": [
    "n_files = len(paths)\n",
    "n_files_existing = sum([len(files) for _, _, files in os.walk(POKEMON_PATH)])\n",
    "print(f'Acquired {n_files} out of {n_files_existing} files')"
   ]
  },
  {
   "cell_type": "code",
   "execution_count": 65,
   "id": "f2e20419",
   "metadata": {},
   "outputs": [
    {
     "data": {
      "text/plain": [
       "array(['.gif', '.png', '.svg'], dtype='<U4')"
      ]
     },
     "execution_count": 65,
     "metadata": {},
     "output_type": "execute_result"
    }
   ],
   "source": [
    "skipped_ext = [p[-4:] for p in skipped]\n",
    "skipped_ext = np.unique(skipped_ext)\n",
    "skipped_ext"
   ]
  },
  {
   "cell_type": "code",
   "execution_count": 66,
   "id": "725754aa",
   "metadata": {},
   "outputs": [
    {
     "name": "stdout",
     "output_type": "stream",
     "text": [
      "Error trying to open: ./raw/pokemon\\10180.png\n"
     ]
    },
    {
     "data": {
      "text/plain": [
       "6111"
      ]
     },
     "execution_count": 66,
     "metadata": {},
     "output_type": "execute_result"
    }
   ],
   "source": [
    "images = image_processing.get_images(paths)\n",
    "len(images)"
   ]
  },
  {
   "cell_type": "code",
   "execution_count": 67,
   "id": "8187c075",
   "metadata": {},
   "outputs": [
    {
     "data": {
      "text/plain": [
       "3516"
      ]
     },
     "execution_count": 67,
     "metadata": {},
     "output_type": "execute_result"
    }
   ],
   "source": [
    "len([img for img in images if img.size == POKEMON_REQUIRED_RES])"
   ]
  },
  {
   "cell_type": "code",
   "execution_count": 68,
   "id": "5306cc75",
   "metadata": {},
   "outputs": [
    {
     "data": {
      "text/plain": [
       "6058"
      ]
     },
     "execution_count": 68,
     "metadata": {},
     "output_type": "execute_result"
    }
   ],
   "source": [
    "len([img for img in images if img.size[0] == img.size[1]])"
   ]
  },
  {
   "cell_type": "code",
   "execution_count": 70,
   "id": "ccdf8555",
   "metadata": {},
   "outputs": [],
   "source": [
    "new_images = []\n",
    "for img in images:\n",
    "    if img.mode != POKEMON_MODE:\n",
    "        img = img.convert(POKEMON_MODE)\n",
    "    new_images.append(img)"
   ]
  },
  {
   "cell_type": "code",
   "execution_count": 75,
   "id": "c842736b",
   "metadata": {},
   "outputs": [
    {
     "ename": "TypeError",
     "evalue": "`pad_width` must be of integral type.",
     "output_type": "error",
     "traceback": [
      "\u001b[1;31m---------------------------------------------------------------------------\u001b[0m",
      "\u001b[1;31mTypeError\u001b[0m                                 Traceback (most recent call last)",
      "\u001b[1;32m<ipython-input-75-e0607c6a193c>\u001b[0m in \u001b[0;36m<module>\u001b[1;34m\u001b[0m\n\u001b[0;32m      4\u001b[0m     padding = (POKEMON_FINAL_RES[0] - POKEMON_REQUIRED_RES[0] / 2, \n\u001b[0;32m      5\u001b[0m               POKEMON_FINAL_RES[1] - POKEMON_REQUIRED_RES[1] / 2)\n\u001b[1;32m----> 6\u001b[1;33m     resized_images = np.pad(img, ((0, 0), padding, padding, (0, 0)),\n\u001b[0m\u001b[0;32m      7\u001b[0m                             mode='constant', constant_values=POKEMON_BACKGROUND_COLOR)\n\u001b[0;32m      8\u001b[0m     \u001b[0mprint\u001b[0m\u001b[1;33m(\u001b[0m\u001b[0mresized_images\u001b[0m\u001b[1;33m.\u001b[0m\u001b[0mshape\u001b[0m\u001b[1;33m)\u001b[0m\u001b[1;33m\u001b[0m\u001b[1;33m\u001b[0m\u001b[0m\n",
      "\u001b[1;32m<__array_function__ internals>\u001b[0m in \u001b[0;36mpad\u001b[1;34m(*args, **kwargs)\u001b[0m\n",
      "\u001b[1;32m~\\anaconda3\\lib\\site-packages\\numpy\\lib\\arraypad.py\u001b[0m in \u001b[0;36mpad\u001b[1;34m(array, pad_width, mode, **kwargs)\u001b[0m\n\u001b[0;32m    738\u001b[0m \u001b[1;33m\u001b[0m\u001b[0m\n\u001b[0;32m    739\u001b[0m     \u001b[1;32mif\u001b[0m \u001b[1;32mnot\u001b[0m \u001b[0mpad_width\u001b[0m\u001b[1;33m.\u001b[0m\u001b[0mdtype\u001b[0m\u001b[1;33m.\u001b[0m\u001b[0mkind\u001b[0m \u001b[1;33m==\u001b[0m \u001b[1;34m'i'\u001b[0m\u001b[1;33m:\u001b[0m\u001b[1;33m\u001b[0m\u001b[1;33m\u001b[0m\u001b[0m\n\u001b[1;32m--> 740\u001b[1;33m         \u001b[1;32mraise\u001b[0m \u001b[0mTypeError\u001b[0m\u001b[1;33m(\u001b[0m\u001b[1;34m'`pad_width` must be of integral type.'\u001b[0m\u001b[1;33m)\u001b[0m\u001b[1;33m\u001b[0m\u001b[1;33m\u001b[0m\u001b[0m\n\u001b[0m\u001b[0;32m    741\u001b[0m \u001b[1;33m\u001b[0m\u001b[0m\n\u001b[0;32m    742\u001b[0m     \u001b[1;31m# Broadcast to shape (array.ndim, 2)\u001b[0m\u001b[1;33m\u001b[0m\u001b[1;33m\u001b[0m\u001b[1;33m\u001b[0m\u001b[0m\n",
      "\u001b[1;31mTypeError\u001b[0m: `pad_width` must be of integral type."
     ]
    }
   ],
   "source": [
    "if POKEMON_REQUIRED_RES is not None:\n",
    "    resized_images = [np.array(img) for img in new_images if img.size == POKEMON_REQUIRED_RES]\n",
    "    resized_images = np.stack(resized_images, axis=0)\n",
    "    padding = (POKEMON_FINAL_RES[0] - POKEMON_REQUIRED_RES[0] / 2, \n",
    "              POKEMON_FINAL_RES[1] - POKEMON_REQUIRED_RES[1] / 2)\n",
    "    resized_images = np.pad(img, ((0, 0), padding, padding, (0, 0)),\n",
    "                            mode='constant', constant_values=POKEMON_BACKGROUND_COLOR)\n",
    "    print(resized_images.shape)\n",
    "else:\n",
    "    print(len(images))"
   ]
  },
  {
   "cell_type": "code",
   "execution_count": 60,
   "id": "1e31fa01",
   "metadata": {},
   "outputs": [
    {
     "data": {
      "text/plain": [
       "0"
      ]
     },
     "execution_count": 60,
     "metadata": {},
     "output_type": "execute_result"
    }
   ],
   "source": [
    "len(images)"
   ]
  },
  {
   "cell_type": "code",
   "execution_count": 50,
   "id": "3a764b0b",
   "metadata": {},
   "outputs": [
    {
     "name": "stderr",
     "output_type": "stream",
     "text": [
      "<ipython-input-50-1aeedb4632c8>:1: VisibleDeprecationWarning: Creating an ndarray from ragged nested sequences (which is a list-or-tuple of lists-or-tuples-or ndarrays with different lengths or shapes) is deprecated. If you meant to do this, you must specify 'dtype=object' when creating the ndarray.\n",
      "  images = np.array(images)\n"
     ]
    },
    {
     "ename": "ValueError",
     "evalue": "could not broadcast input array from shape (96,96,4) into shape (96,96)",
     "output_type": "error",
     "traceback": [
      "\u001b[1;31m---------------------------------------------------------------------------\u001b[0m",
      "\u001b[1;31mValueError\u001b[0m                                Traceback (most recent call last)",
      "\u001b[1;32m<ipython-input-50-1aeedb4632c8>\u001b[0m in \u001b[0;36m<module>\u001b[1;34m\u001b[0m\n\u001b[1;32m----> 1\u001b[1;33m \u001b[0mimages\u001b[0m \u001b[1;33m=\u001b[0m \u001b[0mnp\u001b[0m\u001b[1;33m.\u001b[0m\u001b[0marray\u001b[0m\u001b[1;33m(\u001b[0m\u001b[0mimages\u001b[0m\u001b[1;33m)\u001b[0m\u001b[1;33m\u001b[0m\u001b[1;33m\u001b[0m\u001b[0m\n\u001b[0m\u001b[0;32m      2\u001b[0m \u001b[0mimages\u001b[0m\u001b[1;33m.\u001b[0m\u001b[0mshape\u001b[0m\u001b[1;33m\u001b[0m\u001b[1;33m\u001b[0m\u001b[0m\n",
      "\u001b[1;31mValueError\u001b[0m: could not broadcast input array from shape (96,96,4) into shape (96,96)"
     ]
    }
   ],
   "source": [
    "images = np.array(images)\n",
    "images.shape"
   ]
  },
  {
   "cell_type": "code",
   "execution_count": 19,
   "id": "4687ab1c",
   "metadata": {},
   "outputs": [],
   "source": [
    "if not os.path.exists(POKEMON_DEST_PATH):\n",
    "    os.makedirs(POKEMON_DEST_PATH)\n",
    "\n",
    "for i, img in enumerate(new_images):\n",
    "    img.save(os.path.join(POKEMON_DEST_PATH, f'{i}.png'))"
   ]
  },
  {
   "cell_type": "markdown",
   "id": "9102ecb0",
   "metadata": {},
   "source": [
    "<h2>Heroes 3</h2>"
   ]
  },
  {
   "cell_type": "code",
   "execution_count": 1,
   "id": "feb4ff95",
   "metadata": {},
   "outputs": [],
   "source": [
    "HOMM3_PATH = './homm3_jednostki'\n",
    "HOMM3_EXTENSIONS = ('png', 'gif')"
   ]
  },
  {
   "cell_type": "code",
   "execution_count": 5,
   "id": "1d843bcf",
   "metadata": {},
   "outputs": [],
   "source": [
    "paths = image_processing.get_all_files(HOMM3_PATH, allowed_extensions=HOMM3_EXTENSIONS)"
   ]
  },
  {
   "cell_type": "code",
   "execution_count": 6,
   "id": "fcaa121d",
   "metadata": {},
   "outputs": [
    {
     "data": {
      "text/plain": [
       "156"
      ]
     },
     "execution_count": 6,
     "metadata": {},
     "output_type": "execute_result"
    }
   ],
   "source": [
    "len(paths)"
   ]
  },
  {
   "cell_type": "code",
   "execution_count": 7,
   "id": "e15c4b67",
   "metadata": {},
   "outputs": [
    {
     "data": {
      "text/plain": [
       "156"
      ]
     },
     "execution_count": 7,
     "metadata": {},
     "output_type": "execute_result"
    }
   ],
   "source": [
    "images = image_processing.get_images(paths)\n",
    "len(images)"
   ]
  },
  {
   "cell_type": "code",
   "execution_count": 22,
   "id": "0d0b6653",
   "metadata": {},
   "outputs": [
    {
     "data": {
      "image/png": "[encoded data removed]",
      "text/plain": [
       "<PIL.Image.Image image mode=RGB size=100x120 at 0x268740E1B80>"
      ]
     },
     "execution_count": 22,
     "metadata": {},
     "output_type": "execute_result"
    }
   ],
   "source": [
    "[img.resize((100, 120)) for img in images if img.size != (100, 120)][0]"
   ]
  },
  {
   "cell_type": "code",
   "execution_count": 37,
   "id": "abac4cc9",
   "metadata": {},
   "outputs": [],
   "source": [
    "new_images = []\n",
    "for img in images:\n",
    "    if img.size != (100, 120):\n",
    "        img = img.resize((100, 120))\n",
    "    if img.mode != 'RGB':\n",
    "        img = img.convert('RGB')\n",
    "    \n",
    "    img = np.array(img)\n",
    "    img = np.pad(img, ((4, 4), (14, 14), (0, 0)), mode='linear_ramp')   \n",
    "    \n",
    "    new_images.append(img)"
   ]
  },
  {
   "cell_type": "code",
   "execution_count": 38,
   "id": "6b8e391c",
   "metadata": {},
   "outputs": [],
   "source": [
    "for i, img in enumerate(new_images):\n",
    "    img = Image.fromarray(img)\n",
    "    img.save(f'processed/homm3/{i}.png')"
   ]
  },
  {
   "cell_type": "code",
   "execution_count": 39,
   "id": "a6bdc5c7",
   "metadata": {},
   "outputs": [
    {
     "data": {
      "text/plain": [
       "(128, 128)"
      ]
     },
     "execution_count": 39,
     "metadata": {},
     "output_type": "execute_result"
    }
   ],
   "source": [
    "img.size"
   ]
  },
  {
   "cell_type": "code",
   "execution_count": null,
   "id": "62aafcd2",
   "metadata": {},
   "outputs": [],
   "source": []
  }
 ],
 "metadata": {
  "kernelspec": {
   "display_name": "Python 3",
   "language": "python",
   "name": "python3"
  },
  "language_info": {
   "codemirror_mode": {
    "name": "ipython",
    "version": 3
   },
   "file_extension": ".py",
   "mimetype": "text/x-python",
   "name": "python",
   "nbconvert_exporter": "python",
   "pygments_lexer": "ipython3",
   "version": "3.8.8"
  }
 },
 "nbformat": 4,
 "nbformat_minor": 5
}
